{
  "nbformat": 4,
  "nbformat_minor": 0,
  "metadata": {
    "colab": {
      "provenance": []
    },
    "kernelspec": {
      "name": "python3",
      "display_name": "Python 3"
    },
    "language_info": {
      "name": "python"
    }
  },
  "cells": [
    {
      "cell_type": "code",
      "execution_count": null,
      "metadata": {
        "id": "9EgMzLm3QTD4"
      },
      "outputs": [],
      "source": [
        "# to run Python-ACT-R in Notebook, we need to install the package if not done already:\n",
        "try:\n",
        "  from python_actr import *\n",
        "except ModuleNotFoundError:\n",
        "  %pip install python_actr\n",
        "  from python_actr import *\n",
        "\n",
        "# Using the code above, if python_actr is not installed, it first install python_actr \n",
        "# then imports its modules: from python_actr import *\n",
        "# so no needs to import the following modules one by one, but you can use them instead \n",
        "# by uncommenting one by one, when needed, instead of importing everything at once:\n",
        "#import python_actr\n",
        "#from python_actr import log\n",
        "#from python_actr import ACTR\n",
        "#from python_actr import Model\n",
        "#from python_actr import Buffer\n",
        "#from python_actr import Memory\n",
        "#from python_actr import DMSpreading\n",
        "#from python_actr import log_everything\n",
        "class MyEnv(Model):\n",
        "  pass\n",
        "class MyAgent(ACTR):\n",
        "  production_time = 0.05\n",
        "  production_sd = 0.01\n",
        "  production_threshold = -20\n",
        "  \n",
        "  goal = Buffer() # Creating the goal buffer for the agent\n",
        "  \n",
        "  def init(): # this rule fires when the agent is instantiated.\n",
        "    goal.set(\"sandwich bread\") # set goal buffer to direct program flow\n",
        "  def bread_bottom(goal=\"sandwich bread\"): # if goal=\"sandwich bread\" , fire rule\n",
        "    print (\"I have a piece of bread\")\n",
        "    goal.set(\"stop\") # set goal buffer to direct program flow\n",
        "  def stop_production(goal=\"stop\"):\n",
        "    self.stop() # stop the agent\n",
        "\n",
        "tim = MyAgent()\n",
        "subway=MyEnv()\n",
        "subway.agent=tim\n",
        "log_everything(subway)\n",
        "subway.run()"
      ]
    }
  ]
}